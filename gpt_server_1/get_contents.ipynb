{
 "cells": [
  {
   "cell_type": "markdown",
   "metadata": {},
   "source": [
    "### import 라이브러리"
   ]
  },
  {
   "cell_type": "code",
   "execution_count": 7,
   "metadata": {},
   "outputs": [],
   "source": [
    "from konlpy.tag import Komoran\n",
    "import pickle"
   ]
  },
  {
   "cell_type": "markdown",
   "metadata": {},
   "source": [
    "### 객체, 함수 선언"
   ]
  },
  {
   "cell_type": "code",
   "execution_count": 8,
   "metadata": {},
   "outputs": [],
   "source": [
    "# 악기별 설명 dict\n",
    "with open('instruments_contents/instruments_content.pickle', 'rb') as f:\n",
    "    instruments_contents = pickle.load(f)\n",
    "\n",
    "# 모든 국악기 리스트\n",
    "all_instruments = instruments_contents.keys()\n",
    "\n",
    "# 사용자 정의 형태소 분석기\n",
    "komoran = Komoran(userdic='custom_dict/custom_dict.txt')\n"
   ]
  },
  {
   "cell_type": "code",
   "execution_count": 9,
   "metadata": {},
   "outputs": [],
   "source": [
    "def get_instruments(question):\n",
    "    \n",
    "    poses = komoran.pos(question)\n",
    "    req_instruments = [pose[0] for pose in poses if pose[1]=='NNP']\n",
    "\n",
    "    return req_instruments"
   ]
  },
  {
   "cell_type": "code",
   "execution_count": 10,
   "metadata": {},
   "outputs": [
    {
     "data": {
      "text/plain": [
       "['비파', '당비파']"
      ]
     },
     "execution_count": 10,
     "metadata": {},
     "output_type": "execute_result"
    }
   ],
   "source": [
    "question = \"판소리북와 다ㅇ비파의 차이저ㅁ이 뭐야?\"\n",
    "\n",
    "req_instruments = get_instruments(question)\n",
    "req_instruments"
   ]
  }
 ],
 "metadata": {
  "kernelspec": {
   "display_name": "trade",
   "language": "python",
   "name": "python3"
  },
  "language_info": {
   "codemirror_mode": {
    "name": "ipython",
    "version": 3
   },
   "file_extension": ".py",
   "mimetype": "text/x-python",
   "name": "python",
   "nbconvert_exporter": "python",
   "pygments_lexer": "ipython3",
   "version": "3.10.12"
  },
  "orig_nbformat": 4
 },
 "nbformat": 4,
 "nbformat_minor": 2
}
