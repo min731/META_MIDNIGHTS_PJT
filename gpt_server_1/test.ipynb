{
 "cells": [
  {
   "cell_type": "code",
   "execution_count": 6,
   "metadata": {},
   "outputs": [
    {
     "data": {
      "text/plain": [
       "'안녕하세요! 무엇을 도와드릴까요?'"
      ]
     },
     "execution_count": 6,
     "metadata": {},
     "output_type": "execute_result"
    }
   ],
   "source": [
    "from langchain.llms import OpenAI\n",
    "from langchain.chat_models import ChatOpenAI\n",
    "from pathlib import Path\n",
    "import json\n",
    "\n",
    "secret_path = Path(\"resource\").joinpath(\"secret.json\")\n",
    "secrets = json.loads(open(secret_path).read())\n",
    "openai_api_key = secrets[\"OPENAI_API_KEY\"]\n",
    "chat_model = ChatOpenAI(model=\"gpt-3.5-turbo\", openai_api_key=openai_api_key)\n",
    "\n",
    "\n",
    "chat_model.predict(\"안녕\")"
   ]
  },
  {
   "cell_type": "code",
   "execution_count": 4,
   "metadata": {},
   "outputs": [
    {
     "data": {
      "text/plain": [
       "'What is a good name for a company that makes colorful socks?'"
      ]
     },
     "execution_count": 4,
     "metadata": {},
     "output_type": "execute_result"
    }
   ],
   "source": [
    "from langchain.prompts import PromptTemplate\n",
    "\n",
    "prompt = PromptTemplate.from_template(\"What is a good name for a company that makes {product}?\")\n",
    "prompt.format(product=\"colorful socks\")"
   ]
  },
  {
   "cell_type": "code",
   "execution_count": 5,
   "metadata": {},
   "outputs": [
    {
     "data": {
      "text/plain": [
       "[SystemMessage(content='You are a helpful assistant that translates English to French.', additional_kwargs={}),\n",
       " HumanMessage(content='I love programming.', additional_kwargs={}, example=False)]"
      ]
     },
     "execution_count": 5,
     "metadata": {},
     "output_type": "execute_result"
    }
   ],
   "source": [
    "from langchain.prompts.chat import (\n",
    "    ChatPromptTemplate,\n",
    "    SystemMessagePromptTemplate,\n",
    "    HumanMessagePromptTemplate,\n",
    ")\n",
    "\n",
    "template = \"You are a helpful assistant that translates {input_language} to {output_language}.\"\n",
    "system_message_prompt = SystemMessagePromptTemplate.from_template(template)\n",
    "human_template = \"{text}\"\n",
    "human_message_prompt = HumanMessagePromptTemplate.from_template(human_template)\n",
    "\n",
    "chat_prompt = ChatPromptTemplate.from_messages([system_message_prompt, human_message_prompt])\n",
    "\n",
    "chat_prompt.format_messages(input_language=\"English\", output_language=\"French\", text=\"I love programming.\")"
   ]
  },
  {
   "cell_type": "code",
   "execution_count": 12,
   "metadata": {},
   "outputs": [
    {
     "data": {
      "text/plain": [
       "'비파는 중국의 전통 악기로, 13개의 줄이 있는 비슷한 형태의 도깨비 소리를 내는 악기입니다. 손가락으로 줄을 튕기면서 연주하며, 주로 중국 전통 음악에서 사용됩니다. 비파는 특히 중국 오페라에서 많이 사용되며, 그 외에도 다양한 음악 장르에서도 활용되고 있습니다.'"
      ]
     },
     "execution_count": 12,
     "metadata": {},
     "output_type": "execute_result"
    }
   ],
   "source": [
    "from langchain.chat_models import ChatOpenAI\n",
    "from langchain.chains import ConversationChain\n",
    "from langchain.memory import ConversationBufferMemory\n",
    "from pathlib import Path\n",
    "import json\n",
    "\n",
    "prompt = \"10자 이내로 설명\"\n",
    "secret_path = Path(\"resource\").joinpath(\"secret.json\")\n",
    "secrets = json.loads(open(secret_path).read())\n",
    "openai_api_key = secrets[\"OPENAI_API_KEY\"]\n",
    "chat_model = ChatOpenAI(model=\"gpt-3.5-turbo\", openai_api_key=openai_api_key)\n",
    "conversation = ConversationChain(\n",
    "    llm=chat_model, verbose=True, memory=ConversationBufferMemory()\n",
    ")\n",
    "\n",
    "\n",
    "chat_model.predict(\"비파가 뭐야?\")"
   ]
  },
  {
   "cell_type": "code",
   "execution_count": 15,
   "metadata": {},
   "outputs": [
    {
     "data": {
      "text/plain": [
       "'비파는 음악에서 사용되는 한 종류의 악기로, 일반적으로 소리를 내기 위해 손가락으로 줄을 누르고, 다른 손으로 줄을 치는 방식으로 연주됩니다. 주로 중국 전통 음악에서 사용되며, 사람들이 손가락으로 줄을 누르면서 다른 손으로 줄을 치는 독특한 연주 방식으로 유명합니다. 비파는 일반적으로 21개의 줄을 가지고 있으며, 소리는 줄의 길이와 두께에 따라 달라집니다. 비파는 주로 솔로 연주나 앙상블 연주에 사용되며, 중국 전통 음악의 특색적인 소리를 만들어냅니다.'"
      ]
     },
     "execution_count": 15,
     "metadata": {},
     "output_type": "execute_result"
    }
   ],
   "source": [
    "from langchain.chat_models import ChatOpenAI\n",
    "from langchain.chains import ConversationChain\n",
    "from langchain.memory import ConversationBufferMemory\n",
    "from pathlib import Path\n",
    "import json\n",
    "\n",
    "template = \"\"\"\n",
    "10자 이내로 설명해야 함\n",
    "Current conversation:\n",
    "{history}\n",
    "Human: {input}\n",
    "AI Assistant:\"\"\"\n",
    "\n",
    "secret_path = Path(\"resource\").joinpath(\"secret.json\")\n",
    "secrets = json.loads(open(secret_path).read())\n",
    "openai_api_key = secrets[\"OPENAI_API_KEY\"]\n",
    "chat_model = ChatOpenAI(model=\"gpt-3.5-turbo\", openai_api_key=openai_api_key)\n",
    "PROMPT = PromptTemplate(input_variables=[\"history\", \"input\"], template=template)\n",
    "conversation = ConversationChain(\n",
    "    prompt=PROMPT,\n",
    "    llm=chat_model,\n",
    "    verbose=True,\n",
    "    memory=ConversationBufferMemory(ai_prefix=\"AI Assistant\"),\n",
    ")\n",
    "\n",
    "\n",
    "chat_model.predict(\"비파가 뭐야?\")"
   ]
  },
  {
   "cell_type": "code",
   "execution_count": 20,
   "metadata": {},
   "outputs": [],
   "source": [
    "from langchain.llms import OpenAI\n",
    "from langchain.prompts import PromptTemplate\n",
    "from langchain.chains import ConversationChain\n",
    "from langchain.memory import (\n",
    "    ConversationBufferMemory,\n",
    "    CombinedMemory,\n",
    "    ConversationSummaryMemory,\n",
    ")\n",
    "\n",
    "secret_path = Path(\"resource\").joinpath(\"secret.json\")\n",
    "secrets = json.loads(open(secret_path).read())\n",
    "openai_api_key = secrets[\"OPENAI_API_KEY\"]\n",
    "chat_model = ChatOpenAI(model=\"gpt-3.5-turbo\", openai_api_key=openai_api_key)\n",
    "\n",
    "conv_memory = ConversationBufferMemory(\n",
    "    memory_key=\"chat_history_lines\", input_key=\"input\"\n",
    ")\n",
    "\n",
    "summary_memory = ConversationSummaryMemory(llm=chat_model, input_key=\"input\")\n",
    "# Combined\n",
    "memory = CombinedMemory(memories=[conv_memory, summary_memory])\n",
    "_DEFAULT_TEMPLATE = \"\"\"The following is a friendly conversation between a human and an AI. The AI is talkative and provides lots of specific details from its context. If the AI does not know the answer to a question, it truthfully says it does not know.\n",
    "\n",
    "Summary of conversation:\n",
    "{history}\n",
    "Current conversation:\n",
    "{chat_history_lines}\n",
    "Human: {input}\n",
    "AI:\"\"\"\n",
    "PROMPT = PromptTemplate(\n",
    "    input_variables=[\"history\", \"input\", \"chat_history_lines\"],\n",
    "    template=_DEFAULT_TEMPLATE,\n",
    ")\n",
    "\n",
    "\n",
    "\n",
    "conversation = ConversationChain(llm=chat_model, verbose=True, memory=memory, prompt=PROMPT)\n",
    "\n",
    "chat_model.predict(\"비파가 뭐야?\")"
   ]
  }
 ],
 "metadata": {
  "kernelspec": {
   "display_name": "midnight",
   "language": "python",
   "name": "python3"
  },
  "language_info": {
   "codemirror_mode": {
    "name": "ipython",
    "version": 3
   },
   "file_extension": ".py",
   "mimetype": "text/x-python",
   "name": "python",
   "nbconvert_exporter": "python",
   "pygments_lexer": "ipython3",
   "version": "3.10.12"
  },
  "orig_nbformat": 4
 },
 "nbformat": 4,
 "nbformat_minor": 2
}
